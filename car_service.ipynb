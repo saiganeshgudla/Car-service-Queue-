{
 "cells": [
  {
   "cell_type": "code",
   "execution_count": null,
   "id": "8bd27f4f-4542-45ee-801e-1c3386e22c8b",
   "metadata": {
    "tags": []
   },
   "outputs": [
    {
     "name": "stdout",
     "output_type": "stream",
     "text": [
      "\n",
      "Car Service Queue Menu:\n",
      "1. Add a car to the queue\n",
      "2. Remove a car from the queue\n",
      "3. Display the queue\n",
      "4. Check if the queue is empty\n",
      "5. Get the number of cars in the queue\n",
      "6. Exit\n"
     ]
    }
   ],
   "source": [
    "class Car:\n",
    "    def __init__(self, license_plate, service_type):\n",
    "\n",
    "        self.license_plate = license_plate\n",
    "        self.service_type = service_type\n",
    "\n",
    "class CarServiceQueue:\n",
    "    def __init__(self):\n",
    "\n",
    "        self.queue = []\n",
    "\n",
    "    def enqueue(self, car):\n",
    "\n",
    "        self.queue.append(car)\n",
    "\n",
    "    def dequeue(self):\n",
    "\n",
    "        if self.is_empty():\n",
    "            return None\n",
    "        return self.queue.pop(0)\n",
    "\n",
    "    def is_empty(self):\n",
    "\n",
    "        return len(self.queue) == 0\n",
    "\n",
    "    def size(self):\n",
    "\n",
    "        return len(self.queue)\n",
    "\n",
    "    def display_queue(self):\n",
    "\n",
    "        for i, car in enumerate(self.queue):\n",
    "            print(f\"{i+1}. License Plate: {car.license_plate}, Service Type: {car.service_type}\")\n",
    "\n",
    "def main():\n",
    "    queue = CarServiceQueue()\n",
    "\n",
    "    while True:\n",
    "        print(\"\\nCar Service Queue Menu:\")\n",
    "        print(\"1. Add a car to the queue\")\n",
    "        print(\"2. Remove a car from the queue\")\n",
    "        print(\"3. Display the queue\")\n",
    "        print(\"4. Check if the queue is empty\")\n",
    "        print(\"5. Get the number of cars in the queue\")\n",
    "        print(\"6. Exit\")\n",
    "\n",
    "        choice = input(\"Enter your choice: \")\n",
    "\n",
    "        if choice == \"1\":\n",
    "            license_plate = input(\"Enter the license plate number: \")\n",
    "            service_type = input(\"Enter the service type: \")\n",
    "            car = Car(license_plate, service_type)\n",
    "            queue.enqueue(car)\n",
    "            print(\"Car added to the queue successfully!\")\n",
    "        elif choice == \"2\":\n",
    "            removed_car = queue.dequeue()\n",
    "            if removed_car:\n",
    "                print(f\"Removed car: License Plate: {removed_car.license_plate}, Service Type: {removed_car.service_type}\")\n",
    "            else:\n",
    "                print(\"The queue is empty!\")\n",
    "        elif choice == \"3\":\n",
    "            print(\"Cars in the queue:\")\n",
    "            queue.display_queue()\n",
    "        elif choice == \"4\":\n",
    "            if queue.is_empty():\n",
    "                print(\"The queue is empty!\")\n",
    "            else:\n",
    "                print(\"The queue is not empty!\")\n",
    "        elif choice == \"5\":\n",
    "            print(f\"Number of cars in the queue: {queue.size()}\")\n",
    "        elif choice == \"6\":\n",
    "            print(\"Exiting the program. Goodbye!\")\n",
    "            break\n",
    "        else:\n",
    "            print(\"Invalid choice. Please try again.\")\n",
    "\n",
    "if __name__ == \"__main__\":\n",
    "    main()"
   ]
  },
  {
   "cell_type": "code",
   "execution_count": null,
   "id": "082fa19a-3605-4834-9e00-61ddaf2ed708",
   "metadata": {},
   "outputs": [],
   "source": []
  }
 ],
 "metadata": {
  "kernelspec": {
   "display_name": "Python 3 (ipykernel)",
   "language": "python",
   "name": "python3"
  },
  "language_info": {
   "codemirror_mode": {
    "name": "ipython",
    "version": 3
   },
   "file_extension": ".py",
   "mimetype": "text/x-python",
   "name": "python",
   "nbconvert_exporter": "python",
   "pygments_lexer": "ipython3",
   "version": "3.11.5"
  }
 },
 "nbformat": 4,
 "nbformat_minor": 5
}
